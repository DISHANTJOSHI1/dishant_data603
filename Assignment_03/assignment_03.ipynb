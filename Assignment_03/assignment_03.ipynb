{
 "cells": [
  {
   "cell_type": "code",
   "execution_count": 321,
   "id": "64977f45",
   "metadata": {},
   "outputs": [],
   "source": [
    "from pyspark.sql import SparkSession"
   ]
  },
  {
   "cell_type": "markdown",
   "id": "39520e0f",
   "metadata": {},
   "source": [
    "### Create a spark session"
   ]
  },
  {
   "cell_type": "code",
   "execution_count": 322,
   "id": "43b03e70",
   "metadata": {},
   "outputs": [],
   "source": [
    "spark=SparkSession.builder.appName('Dataframe').getOrCreate()"
   ]
  },
  {
   "cell_type": "markdown",
   "id": "33c6141a",
   "metadata": {},
   "source": [
    "### Schema for loading the data"
   ]
  },
  {
   "cell_type": "code",
   "execution_count": 323,
   "id": "91808a26",
   "metadata": {},
   "outputs": [],
   "source": [
    "from pyspark.sql.types import  (StructType, \n",
    "                                StructField, \n",
    "                                DateType, \n",
    "                                BooleanType,\n",
    "                                DoubleType,\n",
    "                                IntegerType,\n",
    "                                StringType,\n",
    "                               TimestampType)\n",
    "\n",
    "\n",
    "crimes_schema = StructType([StructField(\"ID\", StringType(), True),\n",
    "                            StructField(\"CaseNumber\", StringType(), True),\n",
    "                            StructField(\"Date\", StringType(), True ),\n",
    "                            StructField(\"Block\", StringType(), True),\n",
    "                            StructField(\"IUCR\", StringType(), True),\n",
    "                            StructField(\"PrimaryType\", StringType(), True  ),\n",
    "                            StructField(\"Description\", StringType(), True ),\n",
    "                            StructField(\"LocationDescription\", StringType(), True ),\n",
    "                            StructField(\"Arrest\", BooleanType(), True),\n",
    "                            StructField(\"Domestic\", BooleanType(), True),\n",
    "                            StructField(\"Beat\", StringType(), True),\n",
    "                            StructField(\"District\", StringType(), True),\n",
    "                            StructField(\"Ward\", StringType(), True),\n",
    "                            StructField(\"CommunityArea\", StringType(), True),\n",
    "                            StructField(\"FBICode\", StringType(), True ),\n",
    "                            StructField(\"XCoordinate\", DoubleType(), True),\n",
    "                            StructField(\"YCoordinate\", DoubleType(), True ),\n",
    "                            StructField(\"Year\", IntegerType(), True),\n",
    "                            StructField(\"UpdatedOn\", DateType(), True ),\n",
    "                            StructField(\"Latitude\", DoubleType(), True),\n",
    "                            StructField(\"Longitude\", DoubleType(), True),\n",
    "                            StructField(\"Location\", StringType(), True )\n",
    "                            ])"
   ]
  },
  {
   "cell_type": "code",
   "execution_count": 324,
   "id": "c2bbebaf",
   "metadata": {},
   "outputs": [
    {
     "name": "stderr",
     "output_type": "stream",
     "text": [
      "                                                                                \r"
     ]
    }
   ],
   "source": [
    "df_pyspark=spark.read.option('header','true').csv('Crimes_-_2001_to_Present.csv',inferSchema=True)"
   ]
  },
  {
   "cell_type": "markdown",
   "id": "46908edb",
   "metadata": {},
   "source": [
    "### Load the Chicago crime data"
   ]
  },
  {
   "cell_type": "code",
   "execution_count": 325,
   "id": "d8e9e133",
   "metadata": {},
   "outputs": [
    {
     "name": "stderr",
     "output_type": "stream",
     "text": [
      "                                                                                \r"
     ]
    },
    {
     "name": "stdout",
     "output_type": "stream",
     "text": [
      "+--------+-----------+--------------------+--------------------+----+------------+--------------------+--------------------+------+--------+----+--------+----+--------------+--------+------------+------------+----+--------------------+------------+-------------+--------------------+\n",
      "|      ID|Case Number|                Date|               Block|IUCR|Primary Type|         Description|Location Description|Arrest|Domestic|Beat|District|Ward|Community Area|FBI Code|X Coordinate|Y Coordinate|Year|          Updated On|    Latitude|    Longitude|            Location|\n",
      "+--------+-----------+--------------------+--------------------+----+------------+--------------------+--------------------+------+--------+----+--------+----+--------------+--------+------------+------------+----+--------------------+------------+-------------+--------------------+\n",
      "|10224738|   HY411648|09/05/2015 01:30:...|     043XX S WOOD ST|0486|     BATTERY|DOMESTIC BATTERY ...|           RESIDENCE| false|    true| 924|       9|  12|            61|     08B|     1165074|     1875917|2015|02/10/2018 03:50:...|41.815117282|-87.669999562|(41.815117282, -8...|\n",
      "|10224739|   HY411615|09/04/2015 11:30:...| 008XX N CENTRAL AVE|0870|       THEFT|      POCKET-PICKING|             CTA BUS| false|   false|1511|      15|  29|            25|      06|     1138875|     1904869|2015|02/10/2018 03:50:...|41.895080471|-87.765400451|(41.895080471, -8...|\n",
      "|11646166|   JC213529|09/01/2018 12:01:...|082XX S INGLESIDE...|0810|       THEFT|           OVER $500|           RESIDENCE| false|    true| 631|       6|   8|            44|      06|        null|        null|2018|04/06/2019 04:04:...|        null|         null|                null|\n",
      "|10224740|   HY411595|09/05/2015 12:45:...|   035XX W BARRY AVE|2023|   NARCOTICS|POSS: HEROIN(BRN/...|            SIDEWALK|  true|   false|1412|      14|  35|            21|      18|     1152037|     1920384|2015|02/10/2018 03:50:...|41.937405765|-87.716649687|(41.937405765, -8...|\n",
      "|10224741|   HY411610|09/05/2015 01:00:...| 0000X N LARAMIE AVE|0560|     ASSAULT|              SIMPLE|           APARTMENT| false|    true|1522|      15|  28|            25|     08A|     1141706|     1900086|2015|02/10/2018 03:50:...|41.881903443|-87.755121152|(41.881903443, -8...|\n",
      "+--------+-----------+--------------------+--------------------+----+------------+--------------------+--------------------+------+--------+----+--------+----+--------------+--------+------------+------------+----+--------------------+------------+-------------+--------------------+\n",
      "only showing top 5 rows\n",
      "\n"
     ]
    }
   ],
   "source": [
    "df_pyspark=spark.read.csv('Crimes_-_2001_to_Present.csv',header=True,inferSchema=True)\n",
    "df_pyspark.show(5)"
   ]
  },
  {
   "cell_type": "code",
   "execution_count": 326,
   "id": "fdf43401",
   "metadata": {},
   "outputs": [
    {
     "name": "stderr",
     "output_type": "stream",
     "text": [
      "[Stage 364:====================================>                   (9 + 5) / 14]\r"
     ]
    },
    {
     "name": "stdout",
     "output_type": "stream",
     "text": [
      "(7652367, 22)\n"
     ]
    },
    {
     "name": "stderr",
     "output_type": "stream",
     "text": [
      "\r",
      "                                                                                \r"
     ]
    }
   ],
   "source": [
    "print((df_pyspark.count(), len(df_pyspark.columns)))"
   ]
  },
  {
   "cell_type": "code",
   "execution_count": 327,
   "id": "fd28ef56",
   "metadata": {},
   "outputs": [
    {
     "name": "stdout",
     "output_type": "stream",
     "text": [
      "root\n",
      " |-- ID: integer (nullable = true)\n",
      " |-- Case Number: string (nullable = true)\n",
      " |-- Date: string (nullable = true)\n",
      " |-- Block: string (nullable = true)\n",
      " |-- IUCR: string (nullable = true)\n",
      " |-- Primary Type: string (nullable = true)\n",
      " |-- Description: string (nullable = true)\n",
      " |-- Location Description: string (nullable = true)\n",
      " |-- Arrest: boolean (nullable = true)\n",
      " |-- Domestic: boolean (nullable = true)\n",
      " |-- Beat: integer (nullable = true)\n",
      " |-- District: integer (nullable = true)\n",
      " |-- Ward: integer (nullable = true)\n",
      " |-- Community Area: integer (nullable = true)\n",
      " |-- FBI Code: string (nullable = true)\n",
      " |-- X Coordinate: integer (nullable = true)\n",
      " |-- Y Coordinate: integer (nullable = true)\n",
      " |-- Year: integer (nullable = true)\n",
      " |-- Updated On: string (nullable = true)\n",
      " |-- Latitude: double (nullable = true)\n",
      " |-- Longitude: double (nullable = true)\n",
      " |-- Location: string (nullable = true)\n",
      "\n"
     ]
    }
   ],
   "source": [
    "df_pyspark.printSchema()"
   ]
  },
  {
   "cell_type": "markdown",
   "id": "66133287",
   "metadata": {},
   "source": [
    "### Clean the data"
   ]
  },
  {
   "cell_type": "code",
   "execution_count": 328,
   "id": "0caa2390",
   "metadata": {},
   "outputs": [],
   "source": [
    "df_pyspark=df_pyspark.na.drop() # Drop all null values"
   ]
  },
  {
   "cell_type": "code",
   "execution_count": 329,
   "id": "2edc81a7",
   "metadata": {},
   "outputs": [
    {
     "name": "stderr",
     "output_type": "stream",
     "text": [
      "[Stage 367:====================================>                   (9 + 5) / 14]\r"
     ]
    },
    {
     "name": "stdout",
     "output_type": "stream",
     "text": [
      "(6958084, 22)\n"
     ]
    },
    {
     "name": "stderr",
     "output_type": "stream",
     "text": [
      "\r",
      "                                                                                \r"
     ]
    }
   ],
   "source": [
    "print((df_pyspark.count(), len(df_pyspark.columns))) # Checking the shape of Dataframe"
   ]
  },
  {
   "cell_type": "markdown",
   "id": "e2d7f39a",
   "metadata": {},
   "source": [
    "### Coverting 'Date' from sting to DateType "
   ]
  },
  {
   "cell_type": "code",
   "execution_count": 330,
   "id": "de9ddadc",
   "metadata": {},
   "outputs": [],
   "source": [
    "import datetime\n",
    "from datetime import datetime\n",
    "from pyspark.sql.functions import col,udf\n",
    "myfunc =  udf(lambda x: datetime.strptime(x, '%m/%d/%Y %I:%M:%S %p'), TimestampType())\n",
    "df_pyspark = df_pyspark.withColumn('Date', myfunc(col('Date')))"
   ]
  },
  {
   "cell_type": "code",
   "execution_count": 331,
   "id": "cfee7092",
   "metadata": {},
   "outputs": [
    {
     "data": {
      "text/plain": [
       "StructField('Date', TimestampType(), True)"
      ]
     },
     "execution_count": 331,
     "metadata": {},
     "output_type": "execute_result"
    }
   ],
   "source": [
    "df_pyspark.schema['Date']"
   ]
  },
  {
   "cell_type": "markdown",
   "id": "e294c08a",
   "metadata": {},
   "source": [
    "### Filter for last 10 years"
   ]
  },
  {
   "cell_type": "code",
   "execution_count": 332,
   "id": "e6619400",
   "metadata": {},
   "outputs": [],
   "source": [
    "df_pyspark = df_pyspark.filter(df_pyspark.Year >= 2012) "
   ]
  },
  {
   "cell_type": "markdown",
   "id": "ca177163",
   "metadata": {},
   "source": [
    "### Remove specific records"
   ]
  },
  {
   "cell_type": "code",
   "execution_count": 333,
   "id": "85186f2a",
   "metadata": {},
   "outputs": [],
   "source": [
    "df_pyspark = df_pyspark.filter(df_pyspark['Primary Type']!='STALKING')\n",
    "df_pyspark = df_pyspark.filter(df_pyspark['Primary Type']!='NON-CRIMINAL (SUBJECT SPECIFIED)')\n",
    "df_pyspark = df_pyspark.filter(df_pyspark['Primary Type']!='OTHER OFFENSE')\n",
    "df_pyspark = df_pyspark.filter(df_pyspark['Primary Type']!='NON - CRIMINAL')\n",
    "df_pyspark = df_pyspark.filter(df_pyspark['Primary Type']!='ARSON')"
   ]
  },
  {
   "cell_type": "markdown",
   "id": "28f46f6d",
   "metadata": {},
   "source": [
    "### Merge the similar crime types"
   ]
  },
  {
   "cell_type": "code",
   "execution_count": 334,
   "id": "1b4b00ee",
   "metadata": {},
   "outputs": [
    {
     "name": "stderr",
     "output_type": "stream",
     "text": [
      "[Stage 370:===============================================>       (12 + 2) / 14]\r"
     ]
    },
    {
     "name": "stdout",
     "output_type": "stream",
     "text": [
      "+---------------------------------+\n",
      "|Primary Type                     |\n",
      "+---------------------------------+\n",
      "|OFFENSE INVOLVING CHILDREN       |\n",
      "|CRIMINAL SEXUAL ASSAULT          |\n",
      "|PUBLIC PEACE VIOLATION           |\n",
      "|OBSCENITY                        |\n",
      "|GAMBLING                         |\n",
      "|CRIMINAL TRESPASS                |\n",
      "|ASSAULT                          |\n",
      "|LIQUOR LAW VIOLATION             |\n",
      "|MOTOR VEHICLE THEFT              |\n",
      "|THEFT                            |\n",
      "|BATTERY                          |\n",
      "|ROBBERY                          |\n",
      "|HOMICIDE                         |\n",
      "|PUBLIC INDECENCY                 |\n",
      "|CRIM SEXUAL ASSAULT              |\n",
      "|HUMAN TRAFFICKING                |\n",
      "|INTIMIDATION                     |\n",
      "|PROSTITUTION                     |\n",
      "|DECEPTIVE PRACTICE               |\n",
      "|CONCEALED CARRY LICENSE VIOLATION|\n",
      "|SEX OFFENSE                      |\n",
      "|CRIMINAL DAMAGE                  |\n",
      "|NARCOTICS                        |\n",
      "|NON-CRIMINAL                     |\n",
      "|KIDNAPPING                       |\n",
      "|BURGLARY                         |\n",
      "|WEAPONS VIOLATION                |\n",
      "|OTHER NARCOTIC VIOLATION         |\n",
      "|INTERFERENCE WITH PUBLIC OFFICER |\n",
      "|RITUALISM                        |\n",
      "+---------------------------------+\n",
      "\n"
     ]
    },
    {
     "name": "stderr",
     "output_type": "stream",
     "text": [
      "\r",
      "                                                                                \r"
     ]
    }
   ],
   "source": [
    "df_pyspark.select('Primary Type').distinct().show(100, False)"
   ]
  },
  {
   "cell_type": "code",
   "execution_count": 335,
   "id": "cc877987",
   "metadata": {},
   "outputs": [],
   "source": [
    "from pyspark.sql.functions import when"
   ]
  },
  {
   "cell_type": "code",
   "execution_count": 336,
   "id": "623da03f",
   "metadata": {},
   "outputs": [],
   "source": [
    "#Function to group the similar primary crime types \n",
    "def merge_primaryType(input_df):\n",
    "    input_df = input_df.withColumn(\"Primary Type\", when(input_df[\"Primary Type\"] == 'OTHER NARCOTIC VIOLATION','NARCOTIC').otherwise(input_df['Primary Type']))\n",
    "    input_df = input_df.withColumn(\"Primary Type\", when((input_df[\"Primary Type\"] == 'PROSTITUTION') | (input_df[\"Primary Type\"] == 'CRIM SEXUAL ASSAULT'),'SEX OFFENSE').otherwise(input_df['Primary Type']))    \n",
    "    input_df = input_df.withColumn(\"Primary Type\", when((input_df[\"Primary Type\"] == 'LIQUOR LAW VIOLATION') | (input_df[\"Primary Type\"] == 'RITUALISM') | (input_df[\"Primary Type\"] == 'GAMBLING'),'OTHERS').otherwise(input_df['Primary Type']))\n",
    "    input_df = input_df.withColumn(\"Primary Type\", when((input_df[\"Primary Type\"] == 'CRIMINAL TRESPASS') | (input_df[\"Primary Type\"] == 'ROBBERY'),'ROBBARY/TRESPASS').otherwise(input_df['Primary Type']))\n",
    "    input_df = input_df.withColumn(\"Primary Type\", when((input_df[\"Primary Type\"] == 'INTERFERENCE WITH PUBLIC OFFICER') ,'PUBLIC PEACE INTERFERENCE').otherwise(input_df['Primary Type']))\n",
    "    input_df = input_df.withColumn(\"Primary Type\", when((input_df[\"Primary Type\"] == 'INTIMIDATION') | (input_df[\"Primary Type\"] == 'STALKING'),'INTIMIDATION/STALKING').otherwise(input_df['Primary Type']))\n",
    "    return input_df\n",
    "\n",
    "df_pyspark = merge_primaryType(df_pyspark)"
   ]
  },
  {
   "cell_type": "markdown",
   "id": "dc7b072d",
   "metadata": {},
   "source": [
    "### Analyze the data and present results:"
   ]
  },
  {
   "cell_type": "code",
   "execution_count": 337,
   "id": "5208ad9a",
   "metadata": {},
   "outputs": [],
   "source": [
    "import pandas as pd"
   ]
  },
  {
   "cell_type": "markdown",
   "id": "9423f7bf",
   "metadata": {},
   "source": [
    "##### Show year-wise trend of the crime for last ten years"
   ]
  },
  {
   "cell_type": "code",
   "execution_count": 338,
   "id": "91163669",
   "metadata": {},
   "outputs": [
    {
     "name": "stderr",
     "output_type": "stream",
     "text": [
      "                                                                                \r"
     ]
    },
    {
     "data": {
      "text/html": [
       "<div>\n",
       "<style scoped>\n",
       "    .dataframe tbody tr th:only-of-type {\n",
       "        vertical-align: middle;\n",
       "    }\n",
       "\n",
       "    .dataframe tbody tr th {\n",
       "        vertical-align: top;\n",
       "    }\n",
       "\n",
       "    .dataframe thead th {\n",
       "        text-align: right;\n",
       "    }\n",
       "</style>\n",
       "<table border=\"1\" class=\"dataframe\">\n",
       "  <thead>\n",
       "    <tr style=\"text-align: right;\">\n",
       "      <th></th>\n",
       "      <th>Year</th>\n",
       "      <th>count</th>\n",
       "    </tr>\n",
       "  </thead>\n",
       "  <tbody>\n",
       "    <tr>\n",
       "      <th>0</th>\n",
       "      <td>2012</td>\n",
       "      <td>316944</td>\n",
       "    </tr>\n",
       "    <tr>\n",
       "      <th>1</th>\n",
       "      <td>2013</td>\n",
       "      <td>287831</td>\n",
       "    </tr>\n",
       "    <tr>\n",
       "      <th>2</th>\n",
       "      <td>2014</td>\n",
       "      <td>256123</td>\n",
       "    </tr>\n",
       "    <tr>\n",
       "      <th>3</th>\n",
       "      <td>2015</td>\n",
       "      <td>239882</td>\n",
       "    </tr>\n",
       "    <tr>\n",
       "      <th>4</th>\n",
       "      <td>2016</td>\n",
       "      <td>248587</td>\n",
       "    </tr>\n",
       "    <tr>\n",
       "      <th>5</th>\n",
       "      <td>2017</td>\n",
       "      <td>246554</td>\n",
       "    </tr>\n",
       "    <tr>\n",
       "      <th>6</th>\n",
       "      <td>2018</td>\n",
       "      <td>245306</td>\n",
       "    </tr>\n",
       "    <tr>\n",
       "      <th>7</th>\n",
       "      <td>2019</td>\n",
       "      <td>240835</td>\n",
       "    </tr>\n",
       "    <tr>\n",
       "      <th>8</th>\n",
       "      <td>2020</td>\n",
       "      <td>194260</td>\n",
       "    </tr>\n",
       "    <tr>\n",
       "      <th>9</th>\n",
       "      <td>2021</td>\n",
       "      <td>187748</td>\n",
       "    </tr>\n",
       "    <tr>\n",
       "      <th>10</th>\n",
       "      <td>2022</td>\n",
       "      <td>166616</td>\n",
       "    </tr>\n",
       "  </tbody>\n",
       "</table>\n",
       "</div>"
      ],
      "text/plain": [
       "    Year   count\n",
       "0   2012  316944\n",
       "1   2013  287831\n",
       "2   2014  256123\n",
       "3   2015  239882\n",
       "4   2016  248587\n",
       "5   2017  246554\n",
       "6   2018  245306\n",
       "7   2019  240835\n",
       "8   2020  194260\n",
       "9   2021  187748\n",
       "10  2022  166616"
      ]
     },
     "execution_count": 338,
     "metadata": {},
     "output_type": "execute_result"
    }
   ],
   "source": [
    "year_crime_count = df_pyspark.groupBy('Year').count()\n",
    "year_crime_count_df = pd.DataFrame(year_crime_count.orderBy('Year').rdd.map(lambda e: e.asDict()).collect())\n",
    "year_crime_count_df"
   ]
  },
  {
   "cell_type": "code",
   "execution_count": 339,
   "id": "0b379125",
   "metadata": {},
   "outputs": [
    {
     "data": {
      "text/plain": [
       "[Text(0.5, 1.0, 'Crime Trend over the last 10 years')]"
      ]
     },
     "execution_count": 339,
     "metadata": {},
     "output_type": "execute_result"
    },
    {
     "data": {
      "image/png": "[encoded data removed]",
      "text/plain": [
       "<Figure size 1152x576 with 1 Axes>"
      ]
     },
     "metadata": {
      "needs_background": "light"
     },
     "output_type": "display_data"
    }
   ],
   "source": [
    "import seaborn as sns\n",
    "plt.subplots(figsize=(16,8))\n",
    "sns.barplot(data = year_crime_count_df, x = 'Year', y = 'count').set(title='Crime Trend over the last 10 years')"
   ]
  },
  {
   "cell_type": "markdown",
   "id": "dc789c47",
   "metadata": {},
   "source": [
    "We can clearly conclude crime in 2012 was highest and may be strict policing helped to reduce it in coming years"
   ]
  },
  {
   "cell_type": "markdown",
   "id": "99b8a90d",
   "metadata": {},
   "source": [
    "#### Find out at which hour of the day crime is highest"
   ]
  },
  {
   "cell_type": "code",
   "execution_count": 340,
   "id": "7f987261",
   "metadata": {},
   "outputs": [],
   "source": [
    "from pyspark.sql.functions import hour\n",
    "df_pyspark = df_pyspark.withColumn('hour',hour(df_pyspark.Date))"
   ]
  },
  {
   "cell_type": "code",
   "execution_count": 341,
   "id": "9cea71ce",
   "metadata": {},
   "outputs": [
    {
     "name": "stderr",
     "output_type": "stream",
     "text": [
      "                                                                                \r"
     ]
    },
    {
     "data": {
      "text/html": [
       "<div>\n",
       "<style scoped>\n",
       "    .dataframe tbody tr th:only-of-type {\n",
       "        vertical-align: middle;\n",
       "    }\n",
       "\n",
       "    .dataframe tbody tr th {\n",
       "        vertical-align: top;\n",
       "    }\n",
       "\n",
       "    .dataframe thead th {\n",
       "        text-align: right;\n",
       "    }\n",
       "</style>\n",
       "<table border=\"1\" class=\"dataframe\">\n",
       "  <thead>\n",
       "    <tr style=\"text-align: right;\">\n",
       "      <th></th>\n",
       "      <th>hour</th>\n",
       "      <th>count</th>\n",
       "    </tr>\n",
       "  </thead>\n",
       "  <tbody>\n",
       "    <tr>\n",
       "      <th>0</th>\n",
       "      <td>12</td>\n",
       "      <td>152269</td>\n",
       "    </tr>\n",
       "    <tr>\n",
       "      <th>1</th>\n",
       "      <td>19</td>\n",
       "      <td>148776</td>\n",
       "    </tr>\n",
       "    <tr>\n",
       "      <th>2</th>\n",
       "      <td>18</td>\n",
       "      <td>147846</td>\n",
       "    </tr>\n",
       "    <tr>\n",
       "      <th>3</th>\n",
       "      <td>15</td>\n",
       "      <td>143811</td>\n",
       "    </tr>\n",
       "    <tr>\n",
       "      <th>4</th>\n",
       "      <td>20</td>\n",
       "      <td>142676</td>\n",
       "    </tr>\n",
       "    <tr>\n",
       "      <th>5</th>\n",
       "      <td>17</td>\n",
       "      <td>140262</td>\n",
       "    </tr>\n",
       "    <tr>\n",
       "      <th>6</th>\n",
       "      <td>16</td>\n",
       "      <td>138893</td>\n",
       "    </tr>\n",
       "    <tr>\n",
       "      <th>7</th>\n",
       "      <td>0</td>\n",
       "      <td>138429</td>\n",
       "    </tr>\n",
       "    <tr>\n",
       "      <th>8</th>\n",
       "      <td>21</td>\n",
       "      <td>133790</td>\n",
       "    </tr>\n",
       "    <tr>\n",
       "      <th>9</th>\n",
       "      <td>14</td>\n",
       "      <td>132461</td>\n",
       "    </tr>\n",
       "    <tr>\n",
       "      <th>10</th>\n",
       "      <td>22</td>\n",
       "      <td>132427</td>\n",
       "    </tr>\n",
       "    <tr>\n",
       "      <th>11</th>\n",
       "      <td>13</td>\n",
       "      <td>125267</td>\n",
       "    </tr>\n",
       "    <tr>\n",
       "      <th>12</th>\n",
       "      <td>11</td>\n",
       "      <td>118760</td>\n",
       "    </tr>\n",
       "    <tr>\n",
       "      <th>13</th>\n",
       "      <td>9</td>\n",
       "      <td>115921</td>\n",
       "    </tr>\n",
       "    <tr>\n",
       "      <th>14</th>\n",
       "      <td>10</td>\n",
       "      <td>114536</td>\n",
       "    </tr>\n",
       "    <tr>\n",
       "      <th>15</th>\n",
       "      <td>23</td>\n",
       "      <td>110416</td>\n",
       "    </tr>\n",
       "    <tr>\n",
       "      <th>16</th>\n",
       "      <td>8</td>\n",
       "      <td>88851</td>\n",
       "    </tr>\n",
       "    <tr>\n",
       "      <th>17</th>\n",
       "      <td>1</td>\n",
       "      <td>82229</td>\n",
       "    </tr>\n",
       "    <tr>\n",
       "      <th>18</th>\n",
       "      <td>2</td>\n",
       "      <td>71103</td>\n",
       "    </tr>\n",
       "    <tr>\n",
       "      <th>19</th>\n",
       "      <td>7</td>\n",
       "      <td>62253</td>\n",
       "    </tr>\n",
       "    <tr>\n",
       "      <th>20</th>\n",
       "      <td>3</td>\n",
       "      <td>59065</td>\n",
       "    </tr>\n",
       "    <tr>\n",
       "      <th>21</th>\n",
       "      <td>4</td>\n",
       "      <td>45815</td>\n",
       "    </tr>\n",
       "    <tr>\n",
       "      <th>22</th>\n",
       "      <td>6</td>\n",
       "      <td>45485</td>\n",
       "    </tr>\n",
       "    <tr>\n",
       "      <th>23</th>\n",
       "      <td>5</td>\n",
       "      <td>39345</td>\n",
       "    </tr>\n",
       "  </tbody>\n",
       "</table>\n",
       "</div>"
      ],
      "text/plain": [
       "    hour   count\n",
       "0     12  152269\n",
       "1     19  148776\n",
       "2     18  147846\n",
       "3     15  143811\n",
       "4     20  142676\n",
       "5     17  140262\n",
       "6     16  138893\n",
       "7      0  138429\n",
       "8     21  133790\n",
       "9     14  132461\n",
       "10    22  132427\n",
       "11    13  125267\n",
       "12    11  118760\n",
       "13     9  115921\n",
       "14    10  114536\n",
       "15    23  110416\n",
       "16     8   88851\n",
       "17     1   82229\n",
       "18     2   71103\n",
       "19     7   62253\n",
       "20     3   59065\n",
       "21     4   45815\n",
       "22     6   45485\n",
       "23     5   39345"
      ]
     },
     "execution_count": 341,
     "metadata": {},
     "output_type": "execute_result"
    }
   ],
   "source": [
    "hour_crime_count_df = df_pyspark.groupBy('hour').count()\n",
    "hour_crime_count_df = pd.DataFrame(hour_crime_count_df.orderBy('count',ascending=False).rdd.map(lambda e: e.asDict()).collect())\n",
    "hour_crime_count_df"
   ]
  },
  {
   "cell_type": "code",
   "execution_count": 342,
   "id": "1990bd8b",
   "metadata": {},
   "outputs": [
    {
     "data": {
      "text/plain": [
       "[Text(0.5, 1.0, 'Crimes over the last 10 years')]"
      ]
     },
     "execution_count": 342,
     "metadata": {},
     "output_type": "execute_result"
    },
    {
     "data": {
      "image/png": "[encoded data removed]",
      "text/plain": [
       "<Figure size 1152x576 with 1 Axes>"
      ]
     },
     "metadata": {
      "needs_background": "light"
     },
     "output_type": "display_data"
    }
   ],
   "source": [
    "plt.subplots(figsize=(16,8))\n",
    "sns.lineplot(data = hour_crime_count_df, x = 'hour', y = 'count').set(title='Crimes over the last 10 years')"
   ]
  },
  {
   "cell_type": "markdown",
   "id": "776afd40",
   "metadata": {},
   "source": [
    "We can clearly see that crime is highest during mid night around 12th hour of the day and during early morning low crime."
   ]
  },
  {
   "cell_type": "markdown",
   "id": "046dd0f9",
   "metadata": {},
   "source": [
    "#### Find top ten crimes and present them as a bar chart."
   ]
  },
  {
   "cell_type": "code",
   "execution_count": 343,
   "id": "77506f93",
   "metadata": {},
   "outputs": [],
   "source": [
    "from matplotlib import pyplot as plt"
   ]
  },
  {
   "cell_type": "code",
   "execution_count": 344,
   "id": "b5759a8d",
   "metadata": {},
   "outputs": [
    {
     "name": "stderr",
     "output_type": "stream",
     "text": [
      "                                                                                \r"
     ]
    }
   ],
   "source": [
    "type_crime_count_df = df_pyspark.groupBy('Primary Type').count()\n",
    "type_crime_count_df = pd.DataFrame(type_crime_count_df.orderBy('count',ascending=False).rdd.map(lambda e: e.asDict()).collect())\n",
    "type_crime_count_df = type_crime_count_df.head(10)"
   ]
  },
  {
   "cell_type": "code",
   "execution_count": 345,
   "id": "33265790",
   "metadata": {},
   "outputs": [
    {
     "data": {
      "text/plain": [
       "[Text(0.5, 1.0, 'Top 10 Crimes over the last 10 years')]"
      ]
     },
     "execution_count": 345,
     "metadata": {},
     "output_type": "execute_result"
    },
    {
     "data": {
      "image/png": "[encoded data removed]",
      "text/plain": [
       "<Figure size 1152x576 with 1 Axes>"
      ]
     },
     "metadata": {
      "needs_background": "light"
     },
     "output_type": "display_data"
    }
   ],
   "source": [
    "plt.subplots(figsize=(16,8))\n",
    "sns.barplot(data = type_crime_count_df, x = 'count', y = 'Primary Type').set(title='Top 10 Crimes over the last 10 years')"
   ]
  },
  {
   "cell_type": "markdown",
   "id": "359032ae",
   "metadata": {},
   "source": [
    "Theft was the highest committed crime out of all 6 million reported crimes"
   ]
  }
 ],
 "metadata": {
  "kernelspec": {
   "display_name": "Python 3 (ipykernel)",
   "language": "python",
   "name": "python3"
  },
  "language_info": {
   "codemirror_mode": {
    "name": "ipython",
    "version": 3
   },
   "file_extension": ".py",
   "mimetype": "text/x-python",
   "name": "python",
   "nbconvert_exporter": "python",
   "pygments_lexer": "ipython3",
   "version": "3.9.7"
  }
 },
 "nbformat": 4,
 "nbformat_minor": 5
}
